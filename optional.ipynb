{
 "cells": [
  {
   "cell_type": "code",
   "execution_count": 2,
   "id": "f7a36a9a-7aa4-4fa6-a52e-ed7c2d85eca7",
   "metadata": {},
   "outputs": [
    {
     "data": {
      "text/plain": [
       "'static/img/logo2_t.png'"
      ]
     },
     "execution_count": 2,
     "metadata": {},
     "output_type": "execute_result"
    }
   ],
   "source": [
    "from PIL import Image\n",
    "\n",
    "# Open jouw logo\n",
    "im = Image.open(\"static/img/logo2.png\").convert(\"RGBA\")\n",
    "\n",
    "# Maak nieuwe afbeelding met alpha\n",
    "datas = im.getdata()\n",
    "newData = []\n",
    "for item in datas:\n",
    "    # item = (R,G,B,A)\n",
    "    r, g, b, a = item\n",
    "    # detecteer bijna-zwart/blauwe achtergrond en maak transparant\n",
    "    if (r < 20 and g < 30 and b < 50):  \n",
    "        newData.append((r, g, b, 0))  # alpha = 0\n",
    "    else:\n",
    "        newData.append((r, g, b, a))\n",
    "im.putdata(newData)\n",
    "\n",
    "out_path = \"static/img/logo2_t.png\"\n",
    "im.save(out_path, \"PNG\")\n",
    "\n",
    "out_path"
   ]
  },
  {
   "cell_type": "code",
   "execution_count": null,
   "id": "74c20309-ef08-4b7a-964f-f9498bb3ab1d",
   "metadata": {},
   "outputs": [],
   "source": []
  }
 ],
 "metadata": {
  "kernelspec": {
   "display_name": "Python 3 (ipykernel)",
   "language": "python",
   "name": "python3"
  },
  "language_info": {
   "codemirror_mode": {
    "name": "ipython",
    "version": 3
   },
   "file_extension": ".py",
   "mimetype": "text/x-python",
   "name": "python",
   "nbconvert_exporter": "python",
   "pygments_lexer": "ipython3",
   "version": "3.8.17"
  }
 },
 "nbformat": 4,
 "nbformat_minor": 5
}
